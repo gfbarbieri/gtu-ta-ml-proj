{
 "cells": [
  {
   "cell_type": "markdown",
   "metadata": {},
   "source": [
    "### Import Data from CE\n",
    "\n",
    "Both the target and features will come from the Consumer Expenditure (CE) Interview survey, specifically the FMLI file. The FMLI file contains data about the CE household (family) for each survey quarter. All of the variables included on the file can be found on the [CE data dictionary](https://www.bls.gov/cex/pumd/ce_pumd_interview_diary_dictionary.xlsx).\n",
    "\n",
    "Most likely features for inferring household income:\n",
    "1. Housing tenure.\n",
    "2. Census Tract.\n",
    "3. Occupied space (sq footage).\n",
    "4. Household size.\n",
    "5. Transportation in the household, total cars owned by household.\n",
    "\n",
    "Interesting features that require more analysis outside the scope of this project:\n",
    "1. Highest degree obtained by members of household.\n",
    "2. Item descriptions - identify hobbies.\n",
    "3. Quarterly or annual travel expenses.\n",
    "4. Fuel grade for car.\n",
    "5. Generally, something about expenditures."
   ]
  },
  {
   "cell_type": "markdown",
   "metadata": {},
   "source": [
    "### Libraries"
   ]
  },
  {
   "cell_type": "code",
   "execution_count": 23,
   "metadata": {},
   "outputs": [],
   "source": [
    "import pandas as pd\n",
    "import sqlite3\n",
    "import zipfile\n",
    "import requests\n",
    "import io"
   ]
  },
  {
   "cell_type": "markdown",
   "metadata": {},
   "source": [
    "### Download CE Data\n",
    "\n",
    "Download CE data using the requests library. This is a ZIP file and will require IO library for decoding."
   ]
  },
  {
   "cell_type": "code",
   "execution_count": 39,
   "metadata": {},
   "outputs": [],
   "source": [
    "response = requests.get(\"https://www.bls.gov/cex/pumd/data/comma/intrvw18.zip\")"
   ]
  },
  {
   "cell_type": "markdown",
   "metadata": {},
   "source": [
    "Use the Zipfile library to read the request object `response`.\n",
    "\n",
    "Reference from [Stack Overflow](https://stackoverflow.com/questions/9419162/download-returned-zip-file-from-url)"
   ]
  },
  {
   "cell_type": "code",
   "execution_count": 40,
   "metadata": {},
   "outputs": [],
   "source": [
    "z = zipfile.ZipFile(io.BytesIO(response.content))"
   ]
  },
  {
   "cell_type": "markdown",
   "metadata": {},
   "source": [
    "Extract the zipfiles and download to file folder by passing the path as a argument. No path and the data will extract to the working folder of this Jupyter Notebook."
   ]
  },
  {
   "cell_type": "code",
   "execution_count": 43,
   "metadata": {},
   "outputs": [],
   "source": [
    "z.extractall(\"../data\")"
   ]
  },
  {
   "cell_type": "markdown",
   "metadata": {},
   "source": [
    "### Output\n",
    "\n",
    "Output to SQLite table."
   ]
  },
  {
   "cell_type": "code",
   "execution_count": 42,
   "metadata": {},
   "outputs": [
    {
     "name": "stdout",
     "output_type": "stream",
     "text": [
      "fmli181x\n"
     ]
    }
   ],
   "source": [
    "tables = ['intrvw18/fmli181x.csv']\n",
    "\n",
    "#, 'intrvw18/fmli182.csv', 'intrvw18/fmli183.csv',\n",
    "#          'intrvw18/fmli184.csv', 'intrvw18/fmli191.csv']\n",
    "\n",
    "for table in tables:\n",
    "    table_name = table.split('/')[1].split('.')[0]\n",
    "    print(table_name)"
   ]
  },
  {
   "cell_type": "code",
   "execution_count": 41,
   "metadata": {},
   "outputs": [
    {
     "data": {
      "text/plain": [
       "['intrvw18/expn18/',\n",
       " 'intrvw18/expn18/apa18.csv',\n",
       " 'intrvw18/expn18/apb18.csv',\n",
       " 'intrvw18/expn18/cla18.csv',\n",
       " 'intrvw18/expn18/cld18.csv',\n",
       " 'intrvw18/expn18/cnt18.csv',\n",
       " 'intrvw18/expn18/cra18.csv',\n",
       " 'intrvw18/expn18/crb18.csv',\n",
       " 'intrvw18/expn18/eda18.csv',\n",
       " 'intrvw18/expn18/eqb18.csv',\n",
       " 'intrvw18/expn18/fra18.csv',\n",
       " 'intrvw18/expn18/frb18.csv',\n",
       " 'intrvw18/expn18/hel18.csv',\n",
       " 'intrvw18/expn18/hhm18.csv',\n",
       " 'intrvw18/expn18/hhp18.csv',\n",
       " 'intrvw18/expn18/him18.csv',\n",
       " 'intrvw18/expn18/inb18.csv',\n",
       " 'intrvw18/expn18/lsd18.csv',\n",
       " 'intrvw18/expn18/mdb18.csv',\n",
       " 'intrvw18/expn18/mdc18.csv',\n",
       " 'intrvw18/expn18/mis18.csv',\n",
       " 'intrvw18/expn18/mor18.csv',\n",
       " 'intrvw18/expn18/opb18.csv',\n",
       " 'intrvw18/expn18/opd18.csv',\n",
       " 'intrvw18/expn18/oph18.csv',\n",
       " 'intrvw18/expn18/opi18.csv',\n",
       " 'intrvw18/expn18/ovb18.csv',\n",
       " 'intrvw18/expn18/ovc18.csv',\n",
       " 'intrvw18/expn18/rnt18.csv',\n",
       " 'intrvw18/expn18/rtv18.csv',\n",
       " 'intrvw18/expn18/sub18.csv',\n",
       " 'intrvw18/expn18/trd18.csv',\n",
       " 'intrvw18/expn18/tre18.csv',\n",
       " 'intrvw18/expn18/trf18.csv',\n",
       " 'intrvw18/expn18/trv18.csv',\n",
       " 'intrvw18/expn18/uta18.csv',\n",
       " 'intrvw18/expn18/utc18.csv',\n",
       " 'intrvw18/expn18/utp18.csv',\n",
       " 'intrvw18/expn18/veq18.csv',\n",
       " 'intrvw18/expn18/vlr18.csv',\n",
       " 'intrvw18/expn18/vot18.csv',\n",
       " 'intrvw18/expn18/xpa18.csv',\n",
       " 'intrvw18/expn18/xpb18.csv',\n",
       " 'intrvw18/fmli181x.csv',\n",
       " 'intrvw18/fmli182.csv',\n",
       " 'intrvw18/fmli183.csv',\n",
       " 'intrvw18/fmli184.csv',\n",
       " 'intrvw18/fmli191.csv',\n",
       " 'intrvw18/hhp18.csv',\n",
       " 'intrvw18/him18.csv',\n",
       " 'intrvw18/itbi181x.csv',\n",
       " 'intrvw18/itbi182.csv',\n",
       " 'intrvw18/itbi183.csv',\n",
       " 'intrvw18/itbi184.csv',\n",
       " 'intrvw18/itbi191.csv',\n",
       " 'intrvw18/itii181x.csv',\n",
       " 'intrvw18/itii182.csv',\n",
       " 'intrvw18/itii183.csv',\n",
       " 'intrvw18/itii184.csv',\n",
       " 'intrvw18/itii191.csv',\n",
       " 'intrvw18/memi181x.csv',\n",
       " 'intrvw18/memi182.csv',\n",
       " 'intrvw18/memi183.csv',\n",
       " 'intrvw18/memi184.csv',\n",
       " 'intrvw18/memi191.csv',\n",
       " 'intrvw18/mtbi181x.csv',\n",
       " 'intrvw18/mtbi182.csv',\n",
       " 'intrvw18/mtbi183.csv',\n",
       " 'intrvw18/mtbi184.csv',\n",
       " 'intrvw18/mtbi191.csv',\n",
       " 'intrvw18/ntaxi181x.csv',\n",
       " 'intrvw18/ntaxi182.csv',\n",
       " 'intrvw18/ntaxi183.csv',\n",
       " 'intrvw18/ntaxi184.csv',\n",
       " 'intrvw18/ntaxi191.csv',\n",
       " 'intrvw18/para18/',\n",
       " 'intrvw18/para18/fpar1718.csv',\n",
       " 'intrvw18/para18/mchi1718.csv']"
      ]
     },
     "execution_count": 41,
     "metadata": {},
     "output_type": "execute_result"
    }
   ],
   "source": [
    "z.namelist()"
   ]
  },
  {
   "cell_type": "code",
   "execution_count": 38,
   "metadata": {},
   "outputs": [],
   "source": [
    "conn = sqlite3.connect('database_test.db')\n",
    "c = conn.cursor()\n",
    "\n",
    "for table in tables:\n",
    "    table_name = table.split('/')[1].split('.')[0]\n",
    "    \n",
    "    intrvw = pd.read_csv(z.open(table))\n",
    "\n",
    "    c.execute(\"drop table if exists {}\".format(table_name))\n",
    "\n",
    "    intrvw.to_sql(table_name, conn)\n",
    "\n",
    "conn.commit()\n",
    "conn.close()"
   ]
  }
 ],
 "metadata": {
  "hide_input": false,
  "kernelspec": {
   "display_name": "Python 3",
   "language": "python",
   "name": "python3"
  },
  "language_info": {
   "codemirror_mode": {
    "name": "ipython",
    "version": 3
   },
   "file_extension": ".py",
   "mimetype": "text/x-python",
   "name": "python",
   "nbconvert_exporter": "python",
   "pygments_lexer": "ipython3",
   "version": "3.7.3"
  },
  "varInspector": {
   "cols": {
    "lenName": 16,
    "lenType": 16,
    "lenVar": 40
   },
   "kernels_config": {
    "python": {
     "delete_cmd_postfix": "",
     "delete_cmd_prefix": "del ",
     "library": "var_list.py",
     "varRefreshCmd": "print(var_dic_list())"
    },
    "r": {
     "delete_cmd_postfix": ") ",
     "delete_cmd_prefix": "rm(",
     "library": "var_list.r",
     "varRefreshCmd": "cat(var_dic_list()) "
    }
   },
   "types_to_exclude": [
    "module",
    "function",
    "builtin_function_or_method",
    "instance",
    "_Feature"
   ],
   "window_display": false
  }
 },
 "nbformat": 4,
 "nbformat_minor": 2
}

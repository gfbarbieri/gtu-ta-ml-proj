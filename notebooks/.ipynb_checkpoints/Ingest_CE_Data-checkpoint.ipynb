{
 "cells": [
  {
   "cell_type": "markdown",
   "metadata": {},
   "source": [
    "# Ingest Data from CE\n",
    "\n",
    "The target and features will come from the [Consumer Expenditure (CE) Interview survey](https://www.bls.gov/cex/pumd_data.htm), specifically the FMLI and the MEMI file. The FMLI file contains data about the CE household (family) for each survey quarter and the MEMI file contains information about each member of the household. All of the variables included on the files with descriptions can be found on the [CE data dictionary](https://www.bls.gov/cex/pumd/ce_pumd_interview_diary_dictionary.xlsx)."
   ]
  },
  {
   "cell_type": "markdown",
   "metadata": {},
   "source": [
    "### Libraries"
   ]
  },
  {
   "cell_type": "code",
   "execution_count": 1,
   "metadata": {},
   "outputs": [],
   "source": [
    "import pandas as pd\n",
    "import sqlite3\n",
    "import zipfile\n",
    "import requests\n",
    "import io"
   ]
  },
  {
   "cell_type": "markdown",
   "metadata": {},
   "source": [
    "### Download CE Data\n",
    "\n",
    "I will download CE data using the requests library."
   ]
  },
  {
   "cell_type": "code",
   "execution_count": 2,
   "metadata": {},
   "outputs": [],
   "source": [
    "response = requests.get(\"https://www.bls.gov/cex/pumd/data/comma/intrvw18.zip\")"
   ]
  },
  {
   "cell_type": "markdown",
   "metadata": {},
   "source": [
    "The CE program provides the data as a ZIP file, which can be read using the Zipfile library and the IO library. Specifically, the Zipfile library can read the content of the response object as bytes. Reference from [Stack Overflow](https://stackoverflow.com/questions/9419162/download-returned-zip-file-from-url)"
   ]
  },
  {
   "cell_type": "code",
   "execution_count": 3,
   "metadata": {},
   "outputs": [],
   "source": [
    "z = zipfile.ZipFile(io.BytesIO(response.content))"
   ]
  },
  {
   "cell_type": "markdown",
   "metadata": {},
   "source": [
    "### Extraction and Output\n",
    "\n",
    "Below are two options for outputting the data:\n",
    "1. Use the Zipfile libraries `extractall` method to extract the files, which looks identical to a manual extraction of the data.\n",
    "2. However, to keep with Write One Read Many (WORM) methodology, it is important to consider a more secure storage process."
   ]
  },
  {
   "cell_type": "markdown",
   "metadata": {},
   "source": [
    "*Zipfile Extraction*\n",
    "\n",
    "Pass the file path as an argument to the `extractall` method."
   ]
  },
  {
   "cell_type": "code",
   "execution_count": 4,
   "metadata": {},
   "outputs": [],
   "source": [
    "z.extractall(\"../data\")"
   ]
  },
  {
   "cell_type": "markdown",
   "metadata": {},
   "source": [
    "*SQLite Database Table*\n",
    "\n",
    "I need to print table names to see the naming conventions of the FMLI and MEMI tables for each quarter. The code was removed from the notebook, but reproduced below.\n",
    "```python\n",
    "z.namelist()\n",
    "```\n",
    "\n",
    "Given time and scope of this project, I am going to limit the analysis to one quarter of households from the CE Interview. This means I need only two tables, the **fmli182.csv, memi182.csv**."
   ]
  },
  {
   "cell_type": "code",
   "execution_count": 5,
   "metadata": {},
   "outputs": [
    {
     "name": "stdout",
     "output_type": "stream",
     "text": [
      "fmli182\n",
      "memi182\n"
     ]
    }
   ],
   "source": [
    "tables = ['intrvw18/fmli182.csv', 'intrvw18/memi182.csv']\n",
    "\n",
    "for table in tables:\n",
    "    table_name = table.split('/')[1].split('.')[0]\n",
    "    print(table_name)"
   ]
  },
  {
   "cell_type": "code",
   "execution_count": 6,
   "metadata": {},
   "outputs": [],
   "source": [
    "conn = sqlite3.connect('../data/ce_intrvw_data.db')\n",
    "c = conn.cursor()\n",
    "\n",
    "for table in tables:\n",
    "    table_name = table.split('/')[1].split('.')[0]\n",
    "    \n",
    "    intrvw = pd.read_csv(z.open(table))\n",
    "\n",
    "    c.execute(\"drop table if exists {}\".format(table_name))\n",
    "\n",
    "    intrvw.to_sql(table_name, conn)\n",
    "\n",
    "conn.commit()\n",
    "conn.close()"
   ]
  },
  {
   "cell_type": "code",
   "execution_count": null,
   "metadata": {},
   "outputs": [],
   "source": []
  }
 ],
 "metadata": {
  "hide_input": false,
  "kernelspec": {
   "display_name": "Python 3",
   "language": "python",
   "name": "python3"
  },
  "language_info": {
   "codemirror_mode": {
    "name": "ipython",
    "version": 3
   },
   "file_extension": ".py",
   "mimetype": "text/x-python",
   "name": "python",
   "nbconvert_exporter": "python",
   "pygments_lexer": "ipython3",
   "version": "3.7.3"
  },
  "varInspector": {
   "cols": {
    "lenName": 16,
    "lenType": 16,
    "lenVar": 40
   },
   "kernels_config": {
    "python": {
     "delete_cmd_postfix": "",
     "delete_cmd_prefix": "del ",
     "library": "var_list.py",
     "varRefreshCmd": "print(var_dic_list())"
    },
    "r": {
     "delete_cmd_postfix": ") ",
     "delete_cmd_prefix": "rm(",
     "library": "var_list.r",
     "varRefreshCmd": "cat(var_dic_list()) "
    }
   },
   "types_to_exclude": [
    "module",
    "function",
    "builtin_function_or_method",
    "instance",
    "_Feature"
   ],
   "window_display": false
  }
 },
 "nbformat": 4,
 "nbformat_minor": 2
}

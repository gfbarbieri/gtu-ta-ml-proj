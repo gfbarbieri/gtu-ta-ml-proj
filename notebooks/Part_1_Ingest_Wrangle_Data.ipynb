{
 "cells": [
  {
   "cell_type": "markdown",
   "metadata": {},
   "source": [
    "# Part 1: Ingestion and Wrangling of CE Data\n",
    "\n",
    "#### Concepts Covered\n",
    "Part 1 demonstrates how to begin the data pipeline with electronic data ingestion, use preprocessing techniques to encode a target variable, aggregate data to create features, use visual tools to assess the quality of the data, and store data in a SQLite table.\n",
    "\n",
    "#### Overview\n",
    "The target and features will come from the [Consumer Expenditure (CE) Interview survey](https://www.bls.gov/cex/pumd_data.htm), specifically the FMLI and the MEMI files. The FMLI file contains data about the CE household (family) for each survey quarter and the MEMI file contains information about each member of the household. All of the variables included on the files with descriptions can be found on the [CE data dictionary](https://www.bls.gov/cex/pumd/ce_pumd_interview_diary_dictionary.xlsx)."
   ]
  },
  {
   "cell_type": "markdown",
   "metadata": {},
   "source": [
    "#### Libraries"
   ]
  },
  {
   "cell_type": "code",
   "execution_count": 1,
   "metadata": {},
   "outputs": [],
   "source": [
    "import io\n",
    "import joblib\n",
    "import pandas as pd\n",
    "import requests\n",
    "from sklearn import preprocessing\n",
    "import sqlite3\n",
    "import zipfile\n",
    "\n",
    "%matplotlib inline"
   ]
  },
  {
   "cell_type": "markdown",
   "metadata": {},
   "source": [
    "### Ingestion\n",
    "\n",
    "- Download CE Data.\n",
    "- Extract files and output to DB table.\n",
    "\n",
    "#### Download CE Data"
   ]
  },
  {
   "cell_type": "code",
   "execution_count": 2,
   "metadata": {},
   "outputs": [],
   "source": [
    "response = requests.get(\"https://www.bls.gov/cex/pumd/data/comma/intrvw18.zip\")"
   ]
  },
  {
   "cell_type": "markdown",
   "metadata": {},
   "source": [
    "The CE program provides the data as a ZIP file, which can be read using the Zipfile library and the IO library. Specifically, the Zipfile library can read the content of the response object as bytes. Reference from [Stack Overflow](https://stackoverflow.com/questions/9419162/download-returned-zip-file-from-url)"
   ]
  },
  {
   "cell_type": "code",
   "execution_count": 3,
   "metadata": {},
   "outputs": [],
   "source": [
    "z = zipfile.ZipFile(io.BytesIO(response.content))"
   ]
  },
  {
   "cell_type": "markdown",
   "metadata": {},
   "source": [
    "#### Extraction and Output\n",
    "\n",
    "Below are two options for outputting the data:\n",
    "1. Use the Zipfile libraries `extractall` method to extract the files, which looks identical to a manual extraction of the data.\n",
    "2. However, to keep with Write One Read Many (WORM) methodology, it is important to consider a more secure storage process.\n",
    "\n",
    "*Zipfile Extraction*\n",
    "\n",
    "Pass the file path as an argument to the `extractall` method.\n",
    "```python\n",
    "z.extractall(\"../data\")\n",
    "```\n",
    "\n",
    "*SQLite Database Table*\n",
    "\n",
    "Print table names using the `namelist` method to see the naming conventions of the FMLI and MEMI tables for each calendar quarter.\n",
    "```python\n",
    "z.namelist()\n",
    "```\n",
    "I am going to limit the analysis to one quarter of households from the CE Interview, needing only two tables, the **fmli182.csv, memi182.csv**."
   ]
  },
  {
   "cell_type": "code",
   "execution_count": 4,
   "metadata": {},
   "outputs": [
    {
     "name": "stdout",
     "output_type": "stream",
     "text": [
      "fmli182\n",
      "memi182\n"
     ]
    }
   ],
   "source": [
    "tables = ['intrvw18/fmli182.csv', 'intrvw18/memi182.csv']\n",
    "\n",
    "for table in tables:\n",
    "    table_name = table.split('/')[1].split('.')[0]\n",
    "    print(table_name)"
   ]
  },
  {
   "cell_type": "code",
   "execution_count": 5,
   "metadata": {},
   "outputs": [],
   "source": [
    "conn = sqlite3.connect('../data/ce_intrvw_data.db')\n",
    "c = conn.cursor()\n",
    "\n",
    "for table in tables:\n",
    "    table_name = table.split('/')[1].split('.')[0]\n",
    "    \n",
    "    intrvw = pd.read_csv(z.open(table))\n",
    "\n",
    "    c.execute(\"drop table if exists {}\".format(table_name))\n",
    "\n",
    "    intrvw.to_sql(table_name, conn)\n",
    "\n",
    "conn.commit()\n",
    "conn.close()"
   ]
  },
  {
   "cell_type": "markdown",
   "metadata": {},
   "source": [
    "### Wrangling\n",
    "\n",
    "- Categorizing CE income levels for classification models.\n",
    "- Aggregating hours worked by all members.\n",
    "- Output final table to DB.\n",
    "\n",
    "#### Describe, Classify, Encode Income\n",
    "\n",
    "*Describe*\n",
    "\n",
    "The income variable is an integer that represents the \"total amount of family income before taxes, after imputation\". This means that missing values from data collection have already been populated where appropriate.\n",
    "\n",
    "Let's describe the income variable with a boxplot. From the boxplot, we can see that there are income values that are below zero. An investigation shows that there are four households with negative income. Additional investigation shows that these are not errors, but reflect total losses due to losses in rental income, or self-proprietorship."
   ]
  },
  {
   "cell_type": "code",
   "execution_count": 6,
   "metadata": {},
   "outputs": [],
   "source": [
    "conn = sqlite3.connect('../data/ce_intrvw_data.db')\n",
    "\n",
    "fmli_df = pd.read_sql('''select * from fmli182''', conn)\n",
    "memi_df = pd.read_sql('''select * from memi182''', conn)\n",
    "\n",
    "conn.close()"
   ]
  },
  {
   "cell_type": "code",
   "execution_count": 7,
   "metadata": {},
   "outputs": [
    {
     "data": {
      "text/plain": [
       "<matplotlib.axes._subplots.AxesSubplot at 0x23d83f91da0>"
      ]
     },
     "execution_count": 7,
     "metadata": {},
     "output_type": "execute_result"
    },
    {
     "data": {
      "image/png": "[encoded data removed]",
      "text/plain": [
       "<Figure size 432x288 with 1 Axes>"
      ]
     },
     "metadata": {
      "needs_background": "light"
     },
     "output_type": "display_data"
    }
   ],
   "source": [
    "fmli_df.boxplot(column='FINCBTXM', flierprops=dict(markerfacecolor='black'))"
   ]
  },
  {
   "cell_type": "markdown",
   "metadata": {},
   "source": [
    "*Classify*\n",
    "\n",
    "Income variable is an integer, so first we must categorize the income as either at least or below 70k.\n",
    "\n",
    "Alternatively,\n",
    "```python\n",
    "lim = 70000\n",
    "\n",
    "fmli_df['income_class'] = np.where(fmli_df['FINCBTXM'] >= lim, '>=70k', '<70k')\n",
    "```\n",
    "or\n",
    "```python\n",
    "def income_class(row, lim):\n",
    "    if np.isnan(row['FINCBTXM']) == True:\n",
    "        inc_class = np.nan()\n",
    "    else:\n",
    "        if row['FINCBTXM'] >= 70000:\n",
    "            inc_class = '>=70k'\n",
    "        else:\n",
    "            inc_class = '<70k'\n",
    "        \n",
    "    return inc_class\n",
    "\n",
    "fmli_df['income_class'] = fmli_df.apply(income_class, axis=1, args=(70000,))\n",
    "```"
   ]
  },
  {
   "cell_type": "code",
   "execution_count": 8,
   "metadata": {},
   "outputs": [],
   "source": [
    "lim = 70000\n",
    "\n",
    "fmli_df.loc[fmli_df['FINCBTXM'] >= lim, 'income_class'] = \">=70k\"\n",
    "fmli_df.loc[fmli_df['FINCBTXM'] < lim, 'income_class'] = \"<70k\""
   ]
  },
  {
   "cell_type": "markdown",
   "metadata": {},
   "source": [
    "A bar chart shows that there is a slight imbalance of our target, but is not an immediate concern. Any imbalance in this case would make it harder for our model to accurately learn and identify households with greater than 70k."
   ]
  },
  {
   "cell_type": "code",
   "execution_count": 9,
   "metadata": {},
   "outputs": [
    {
     "data": {
      "text/plain": [
       "<matplotlib.axes._subplots.AxesSubplot at 0x23df59ef390>"
      ]
     },
     "execution_count": 9,
     "metadata": {},
     "output_type": "execute_result"
    },
    {
     "data": {
      "image/png": "[encoded data removed]",
      "text/plain": [
       "<Figure size 432x288 with 1 Axes>"
      ]
     },
     "metadata": {
      "needs_background": "light"
     },
     "output_type": "display_data"
    }
   ],
   "source": [
    "fmli_df['income_class'].value_counts(normalize=True).plot(kind='bar')"
   ]
  },
  {
   "cell_type": "markdown",
   "metadata": {},
   "source": [
    "*Label Encoding*"
   ]
  },
  {
   "cell_type": "code",
   "execution_count": 10,
   "metadata": {},
   "outputs": [
    {
     "name": "stdout",
     "output_type": "stream",
     "text": [
      "['<70k' '>=70k']\n"
     ]
    }
   ],
   "source": [
    "le = preprocessing.LabelEncoder()\n",
    "\n",
    "ic_fit = le.fit(fmli_df['income_class'])\n",
    "\n",
    "print(ic_fit.classes_)"
   ]
  },
  {
   "cell_type": "code",
   "execution_count": 11,
   "metadata": {},
   "outputs": [],
   "source": [
    "fmli_df['inc_class_encode'] = ic_fit.transform(fmli_df['income_class'])"
   ]
  },
  {
   "cell_type": "markdown",
   "metadata": {},
   "source": [
    "As part the pipeline process output any label encoding parameters."
   ]
  },
  {
   "cell_type": "code",
   "execution_count": 12,
   "metadata": {},
   "outputs": [
    {
     "data": {
      "text/plain": [
       "['../model/income-encoding-fit.sav']"
      ]
     },
     "execution_count": 12,
     "metadata": {},
     "output_type": "execute_result"
    }
   ],
   "source": [
    "joblib.dump(ic_fit, '../model/income-encoding-fit.sav')"
   ]
  },
  {
   "cell_type": "markdown",
   "metadata": {},
   "source": [
    "#### Aggregate Hours Worked\n",
    "\n",
    "Aggregate the number of hours worked by members of the household from the MEMI dataframe and merge the results back to the FMLI dataset.\n",
    "\n",
    "Alternatively,\n",
    "```python\n",
    "memi_agg = memi_df.groupby(by=['NEWID'], as_index=False).agg({'INC_HRSQ':'sum'})\n",
    "\n",
    "wng_df = fmli_df.merge(memi_agg, how='left', on='NEWID')\n",
    "```"
   ]
  },
  {
   "cell_type": "code",
   "execution_count": 13,
   "metadata": {},
   "outputs": [],
   "source": [
    "hh_hrs_wrkd = memi_df.groupby(by='NEWID', as_index=False)['INC_HRSQ'].sum()"
   ]
  },
  {
   "cell_type": "code",
   "execution_count": 14,
   "metadata": {},
   "outputs": [],
   "source": [
    "wng_df = fmli_df.merge(hh_hrs_wrkd, how='left', on='NEWID')"
   ]
  },
  {
   "cell_type": "markdown",
   "metadata": {},
   "source": [
    "#### Output"
   ]
  },
  {
   "cell_type": "code",
   "execution_count": 15,
   "metadata": {},
   "outputs": [],
   "source": [
    "table_name = 'final_family_data'\n",
    "\n",
    "conn = sqlite3.connect('../data/ce_intrvw_data.db')\n",
    "c = conn.cursor()\n",
    "\n",
    "c.execute(\"drop table if exists {}\".format(table_name))\n",
    "\n",
    "wng_df.to_sql(table_name, conn)\n",
    "\n",
    "conn.commit()\n",
    "conn.close()"
   ]
  }
 ],
 "metadata": {
  "hide_input": false,
  "kernelspec": {
   "display_name": "Python 3",
   "language": "python",
   "name": "python3"
  },
  "language_info": {
   "codemirror_mode": {
    "name": "ipython",
    "version": 3
   },
   "file_extension": ".py",
   "mimetype": "text/x-python",
   "name": "python",
   "nbconvert_exporter": "python",
   "pygments_lexer": "ipython3",
   "version": "3.7.3"
  },
  "varInspector": {
   "cols": {
    "lenName": 16,
    "lenType": 16,
    "lenVar": 40
   },
   "kernels_config": {
    "python": {
     "delete_cmd_postfix": "",
     "delete_cmd_prefix": "del ",
     "library": "var_list.py",
     "varRefreshCmd": "print(var_dic_list())"
    },
    "r": {
     "delete_cmd_postfix": ") ",
     "delete_cmd_prefix": "rm(",
     "library": "var_list.r",
     "varRefreshCmd": "cat(var_dic_list()) "
    }
   },
   "types_to_exclude": [
    "module",
    "function",
    "builtin_function_or_method",
    "instance",
    "_Feature"
   ],
   "window_display": false
  }
 },
 "nbformat": 4,
 "nbformat_minor": 2
}

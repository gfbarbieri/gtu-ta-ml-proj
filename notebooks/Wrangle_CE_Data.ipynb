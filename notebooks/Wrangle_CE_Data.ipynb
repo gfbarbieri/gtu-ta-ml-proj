{
 "cells": [
  {
   "attachments": {},
   "cell_type": "markdown",
   "metadata": {},
   "source": [
    "# Wrangle CE Data\n",
    "\n",
    "Wrangling possibilities?\n",
    "\n",
    "- Categorizing CE income levels for classification models.\n",
    "- Flag variables stored in variables?\n",
    "- Delete duplicate households that overlap quarters (multiple interview numbers).\n",
    "- Output to one DB table.\n",
    "\n",
    "Most likely features for inferring household income:\n",
    "1. Homeownership: Housing tenure (CUTENURE).\n",
    "2. Geographic area: PSU (PSU).\n",
    "3. Occupied space size: size of the lot which occupies the housing unit (LOT_SIZE).\n",
    "4. Household size:\n",
    "    - number of members in the household (FAM_SIZE).\n",
    "    - number of children under 2 years old (AS_COMP5).\n",
    "    - number of persons over 64 (PERSOT64).\n",
    "5. Transportation in the household: Total number of vehicles owned (VEHQ).\n",
    "6. Number of hours worked by the household: Hours worked by each member (INC_HRSQ).\n",
    "7. Highest degree obtained by members of household (HIGH_EDU).\n",
    "8. Age of reference person (AGE_REF)."
   ]
  },
  {
   "cell_type": "code",
   "execution_count": 5,
   "metadata": {},
   "outputs": [],
   "source": [
    "import pandas as pd\n",
    "import sqlite3\n",
    "from sklearn import preprocessing"
   ]
  },
  {
   "cell_type": "code",
   "execution_count": 6,
   "metadata": {},
   "outputs": [],
   "source": [
    "conn = sqlite3.connect('../data/ce_intrvw_data.db')\n",
    "\n",
    "fmli_df = pd.read_sql('''select * from fmli182''', conn)\n",
    "memi_df = pd.read_sql('''select * from memi182''', conn)\n",
    "\n",
    "conn.close()"
   ]
  },
  {
   "cell_type": "markdown",
   "metadata": {},
   "source": [
    "### Data Integrity"
   ]
  },
  {
   "cell_type": "markdown",
   "metadata": {},
   "source": [
    "*Family File*"
   ]
  },
  {
   "cell_type": "code",
   "execution_count": 8,
   "metadata": {},
   "outputs": [
    {
     "data": {
      "text/plain": [
       "1    2184\n",
       "4    2031\n",
       "2    1587\n",
       "5      80\n",
       "6      17\n",
       "Name: CUTENURE, dtype: int64"
      ]
     },
     "execution_count": 8,
     "metadata": {},
     "output_type": "execute_result"
    }
   ],
   "source": [
    "fmli_df['CUTENURE'].value_counts()"
   ]
  },
  {
   "cell_type": "code",
   "execution_count": null,
   "metadata": {},
   "outputs": [],
   "source": []
  }
 ],
 "metadata": {
  "hide_input": false,
  "kernelspec": {
   "display_name": "Python 3",
   "language": "python",
   "name": "python3"
  },
  "language_info": {
   "codemirror_mode": {
    "name": "ipython",
    "version": 3
   },
   "file_extension": ".py",
   "mimetype": "text/x-python",
   "name": "python",
   "nbconvert_exporter": "python",
   "pygments_lexer": "ipython3",
   "version": "3.7.3"
  },
  "varInspector": {
   "cols": {
    "lenName": 16,
    "lenType": 16,
    "lenVar": 40
   },
   "kernels_config": {
    "python": {
     "delete_cmd_postfix": "",
     "delete_cmd_prefix": "del ",
     "library": "var_list.py",
     "varRefreshCmd": "print(var_dic_list())"
    },
    "r": {
     "delete_cmd_postfix": ") ",
     "delete_cmd_prefix": "rm(",
     "library": "var_list.r",
     "varRefreshCmd": "cat(var_dic_list()) "
    }
   },
   "types_to_exclude": [
    "module",
    "function",
    "builtin_function_or_method",
    "instance",
    "_Feature"
   ],
   "window_display": false
  }
 },
 "nbformat": 4,
 "nbformat_minor": 2
}
